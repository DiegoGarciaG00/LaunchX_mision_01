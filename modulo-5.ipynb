{
 "cells": [
  {
   "cell_type": "markdown",
   "metadata": {},
   "source": [
    "## Ejercicio 1 utilizar operadores arimteticos"
   ]
  },
  {
   "cell_type": "code",
   "execution_count": 12,
   "metadata": {},
   "outputs": [],
   "source": [
    "#Crear variables \n",
    "\n",
    "tierra= 149597870\n",
    "jupiter=778547200"
   ]
  },
  {
   "cell_type": "code",
   "execution_count": 13,
   "metadata": {},
   "outputs": [
    {
     "name": "stdout",
     "output_type": "stream",
     "text": [
      "La distancia entra planetas en kilometros es 628949330.\n",
      "\n",
      "La distancia entra planetas en millas es 390810874.13143003.\n",
      "\n"
     ]
    }
   ],
   "source": [
    "#calcular distancia entra tierra y jupiter\n",
    "dis=abs(tierra-jupiter)\n",
    "print(f\"La distancia entra planetas en kilometros es {dis}.\\n\")\n",
    "\n",
    "print(f\"La distancia entra planetas en millas es {dis*0.621371}.\\n\")"
   ]
  },
  {
   "cell_type": "markdown",
   "metadata": {},
   "source": [
    "## Ejercicio 2 convertir cadenas en numeros y usr valores absolutos"
   ]
  },
  {
   "cell_type": "code",
   "execution_count": 14,
   "metadata": {},
   "outputs": [],
   "source": [
    "#almacenar entradas del usuario y convertir a entero\n",
    "\n",
    "planeta_1=int(input(\"Distancia del sol al planeta_1: \"))\n",
    "planeta_2=int(input(\"Distancia del sol al planeta_2: \"))"
   ]
  },
  {
   "cell_type": "code",
   "execution_count": 15,
   "metadata": {},
   "outputs": [
    {
     "name": "stdout",
     "output_type": "stream",
     "text": [
      "La distancia entra planetas en kilometros es 66667.\n",
      "\n",
      "La distancia entra planetas en millas es 41424.940457.\n",
      "\n"
     ]
    }
   ],
   "source": [
    "#calculo de distancia con valor absoluto \n",
    "\n",
    "dis=planeta_1-planeta_2\n",
    "print(f\"La distancia entra planetas en kilometros es {abs(dis)}.\\n\")\n",
    "\n",
    "#distncia en millas\n",
    "print(f\"La distancia entra planetas en millas es {abs(dis)*0.621371}.\\n\")"
   ]
  }
 ],
 "metadata": {
  "interpreter": {
   "hash": "82fc57221ea81210cc99d19da81c802fe97a75a65373bbd51681fade88543055"
  },
  "kernelspec": {
   "display_name": "Python 3.7.3 ('base')",
   "language": "python",
   "name": "python3"
  },
  "language_info": {
   "codemirror_mode": {
    "name": "ipython",
    "version": 3
   },
   "file_extension": ".py",
   "mimetype": "text/x-python",
   "name": "python",
   "nbconvert_exporter": "python",
   "pygments_lexer": "ipython3",
   "version": "3.7.3"
  },
  "orig_nbformat": 4
 },
 "nbformat": 4,
 "nbformat_minor": 2
}
