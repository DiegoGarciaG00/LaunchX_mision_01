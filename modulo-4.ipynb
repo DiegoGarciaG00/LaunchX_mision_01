{
 "cells": [
  {
   "cell_type": "markdown",
   "metadata": {},
   "source": [
    "## Ejercicio 1 Transformar cadenas"
   ]
  },
  {
   "cell_type": "code",
   "execution_count": 9,
   "metadata": {},
   "outputs": [
    {
     "name": "stdout",
     "output_type": "stream",
     "text": [
      "['Interesting facts about the Moon', \" The Moon is Earth's only satellite\", ' There are several interesting facts about the Moon and how it affects life here on Earth', ' \\nOn average, the Moon moves 4cm away from the Earth every year', ' This yearly drift is not significant enough to cause immediate effects on Earth', ' The highest daylight temperature of the Moon is 127 C', ''] \n",
      "\n",
      "\n",
      " \n",
      "On average, the Moon moves 4cm away from the Earth every year\n",
      " The highest daylight temperature of the Moon is 127 C\n",
      "\n",
      "\n",
      "\n",
      " \n",
      "On average, the Moon moves 4cm away from the Earth every year\n",
      " The highest daylight temperature of the Moon is 127 Celsius\n"
     ]
    }
   ],
   "source": [
    "#texto a trabajar\n",
    "\n",
    "text = \"\"\"Interesting facts about the Moon. The Moon is Earth's only satellite. There are several interesting facts about the Moon and how it affects life here on Earth. \n",
    "On average, the Moon moves 4cm away from the Earth every year. This yearly drift is not significant enough to cause immediate effects on Earth. The highest daylight temperature of the Moon is 127 C.\"\"\"\n",
    "\n",
    "#Dividir el texto en cada oracion\n",
    "oraciones = text.split('.')\n",
    "print(oraciones, \"\\n\\n\")\n",
    "\n",
    "#Definir palabras clave =\"average\", \"temperature\" y \"distance\"\n",
    "palabras_clave = [\"average\", \"temperature\", \"distance\"]\n",
    "\n",
    "#Crear bucle para palabras definidad antes \n",
    "for oracion in oraciones:\n",
    "    #Crear bucle para cada oracion\n",
    "    for palabra in palabras_clave:\n",
    "        #Si la oracion contiene la palabra clave\n",
    "        if palabra in oracion:\n",
    "            print(oracion) \n",
    "\n",
    "print(\"\\n\\n\")\n",
    "\n",
    "#Bucle para remplazar C por Celsiues en las oraciones \n",
    "for oracion in oraciones:\n",
    "    #Crear bucle para cada oracion\n",
    "    for palabra in palabras_clave:\n",
    "        #Si la oracion contiene la palabra clave\n",
    "        if palabra in oracion:\n",
    "            print(oracion.replace(' C', ' Celsius'))  \n"
   ]
  },
  {
   "cell_type": "markdown",
   "metadata": {},
   "source": [
    "## Ejercicio 2 Formateando cadenas"
   ]
  },
  {
   "cell_type": "code",
   "execution_count": 11,
   "metadata": {},
   "outputs": [
    {
     "name": "stdout",
     "output_type": "stream",
     "text": [
      "Gravedad en Moon y Earth \n"
     ]
    }
   ],
   "source": [
    "# Datos a trabajar\n",
    "\n",
    "name = \"Moon\"\n",
    "gravity = 0.00162\n",
    "planet = \"Earth\"\n",
    "\n",
    "titulo=f\"Gravedad en {name} y {planet} \"\n",
    "print(titulo)"
   ]
  },
  {
   "cell_type": "code",
   "execution_count": 18,
   "metadata": {},
   "outputs": [
    {
     "name": "stdout",
     "output_type": "stream",
     "text": [
      "El nombre del planeta es Earth \n",
      "La gravedad en Moon es = 1.6199999999999999 m/s^2\n"
     ]
    }
   ],
   "source": [
    "#Platilla con datos restantes distancia en metros\n",
    "\n",
    "plantilla=f\"El nombre del planeta es {planet} \\nLa gravedad en {name} es = {gravity*1000} m/s^2\"\n",
    "print(plantilla)"
   ]
  },
  {
   "cell_type": "code",
   "execution_count": 19,
   "metadata": {},
   "outputs": [
    {
     "name": "stdout",
     "output_type": "stream",
     "text": [
      "Gravedad en Moon y Earth  \n",
      "El nombre del planeta es Earth \n",
      "La gravedad en Moon es = 1.6199999999999999 m/s^2\n"
     ]
    }
   ],
   "source": [
    "#Union de plantillas \n",
    "\n",
    "platilla_final=f\"{titulo} \\n{plantilla}\"\n",
    "print(platilla_final)"
   ]
  },
  {
   "cell_type": "code",
   "execution_count": 20,
   "metadata": {},
   "outputs": [
    {
     "name": "stdout",
     "output_type": "stream",
     "text": [
      "Gravedad en Moon y Earth  \n",
      "El nombre del planeta es Earth \n",
      "La gravedad en Moon es = 1.6199999999999999 m/s^2\n"
     ]
    }
   ],
   "source": [
    "# Datos con los que vamos a trabajar\n",
    "\n",
    "planet = 'Marte '\n",
    "gravity  = 0.00143\n",
    "name = 'Ganímedes'\n",
    "\n",
    "print(platilla_final)"
   ]
  },
  {
   "cell_type": "code",
   "execution_count": 21,
   "metadata": {},
   "outputs": [
    {
     "name": "stdout",
     "output_type": "stream",
     "text": [
      "Gravedad en Ganímedes y Marte \n",
      "El nombre del planeta es Marte  \n",
      "La gravedad en Ganímedes es = 1.4300000000000002 m/s^2\n"
     ]
    }
   ],
   "source": [
    "#nueva plantilla\n",
    "\n",
    "plantilla_n=f\"Gravedad en {name} y {planet}\\nEl nombre del planeta es {planet} \\nLa gravedad en {name} es = {gravity*1000} m/s^2\"\n",
    "print(plantilla_n.format(name=name, planet=planet, gravity=gravity*1000))"
   ]
  }
 ],
 "metadata": {
  "interpreter": {
   "hash": "82fc57221ea81210cc99d19da81c802fe97a75a65373bbd51681fade88543055"
  },
  "kernelspec": {
   "display_name": "Python 3.7.3 ('base')",
   "language": "python",
   "name": "python3"
  },
  "language_info": {
   "codemirror_mode": {
    "name": "ipython",
    "version": 3
   },
   "file_extension": ".py",
   "mimetype": "text/x-python",
   "name": "python",
   "nbconvert_exporter": "python",
   "pygments_lexer": "ipython3",
   "version": "3.7.3"
  },
  "orig_nbformat": 4
 },
 "nbformat": 4,
 "nbformat_minor": 2
}
