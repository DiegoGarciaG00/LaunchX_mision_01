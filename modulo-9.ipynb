{
 "cells": [
  {
   "cell_type": "markdown",
   "metadata": {},
   "source": [
    "## Ejercicio 1 Trabajar con argumentos en funciones\n"
   ]
  },
  {
   "cell_type": "code",
   "execution_count": 10,
   "metadata": {},
   "outputs": [
    {
     "name": "stdout",
     "output_type": "stream",
     "text": [
      "Lectura de tanques:\n",
      "    Promedio: 20.0\n",
      "    Tanque 1: 10\n",
      "    Tanque 2: 20\n",
      "    Tanque 3: 30\n",
      "    \n"
     ]
    }
   ],
   "source": [
    "# Función para leer 3 tanques de combustible y muestre el promedio\n",
    "\n",
    "def lector(tanque_1, tanque_2,tanque_3):\n",
    "    promedio = (tanque_1 + tanque_2 + tanque_3) / 3\n",
    "    return f\"\"\"Lectura de tanques:\n",
    "    Promedio: {promedio}\n",
    "    Tanque 1: {tanque_1}\n",
    "    Tanque 2: {tanque_2}\n",
    "    Tanque 3: {tanque_3}\n",
    "    \"\"\"\n",
    "\n",
    "print(lector(10,20,30))"
   ]
  },
  {
   "cell_type": "code",
   "execution_count": 11,
   "metadata": {},
   "outputs": [
    {
     "data": {
      "text/plain": [
       "52.75"
      ]
     },
     "execution_count": 11,
     "metadata": {},
     "output_type": "execute_result"
    }
   ],
   "source": [
    "# Función promedio \n",
    "def promedio(num):\n",
    "    return sum(num)/len(num)\n",
    "\n",
    "promedio([20,35,67,89])\n"
   ]
  },
  {
   "cell_type": "code",
   "execution_count": 12,
   "metadata": {},
   "outputs": [
    {
     "name": "stdout",
     "output_type": "stream",
     "text": [
      "Lectura de tanques:\n",
      "    Promedio: 40.666666666666664\n",
      "    Tanque 1: 20\n",
      "    Tanque 2: 35\n",
      "    Tanque 3: 67\n",
      "    \n"
     ]
    }
   ],
   "source": [
    "# Actualiza la primer funcion función\n",
    "def lector_1(tanque_1, tanque_2,tanque_3):\n",
    "    return f\"\"\"Lectura de tanques:\n",
    "    Promedio: {promedio([tanque_1, tanque_2, tanque_3])}\n",
    "    Tanque 1: {tanque_1}\n",
    "    Tanque 2: {tanque_2}\n",
    "    Tanque 3: {tanque_3}\n",
    "    \"\"\"\n",
    "\n",
    "print(lector(20,35,67))"
   ]
  },
  {
   "cell_type": "markdown",
   "metadata": {},
   "source": [
    "## Ejercicio 2 Trabajo con argumentos de palabra clave\n"
   ]
  },
  {
   "cell_type": "code",
   "execution_count": 13,
   "metadata": {},
   "outputs": [
    {
     "name": "stdout",
     "output_type": "stream",
     "text": [
      "Reporte de misión:\n",
      "    Hora de prelanzamiento: 10\n",
      "    Tiempo de vuelo: 20\n",
      "    Tiempo total: 30\n",
      "    Destino: Luna\n",
      "    Tanque externo: 20\n",
      "    Tanque interno: 30\n",
      "    Combustible total: 50\n",
      "    \n"
     ]
    }
   ],
   "source": [
    "# Función con un informe preciso de la misión. Considera hora de prelanzamiento, tiempo de vuelo, destino, tanque externo y tanque interno\n",
    "\n",
    "def reporte(prelanzamiento,tiempo_vuelo,destino,tanque_ext,tanque_int):\n",
    "    return f\"\"\"Reporte de misión:\n",
    "    Hora de prelanzamiento: {prelanzamiento}\n",
    "    Tiempo de vuelo: {tiempo_vuelo}\n",
    "    Tiempo total: {prelanzamiento + tiempo_vuelo}\n",
    "    Destino: {destino}\n",
    "    Tanque externo: {tanque_ext}\n",
    "    Tanque interno: {tanque_int}\n",
    "    Combustible total: {tanque_ext + tanque_int}\n",
    "    \"\"\"\n",
    "\n",
    "print(reporte(10,20,\"Luna\",20,30))\n"
   ]
  },
  {
   "cell_type": "code",
   "execution_count": 14,
   "metadata": {},
   "outputs": [
    {
     "name": "stdout",
     "output_type": "stream",
     "text": [
      "\n",
      "    Destino a Luna\n",
      "    Tiempo total 60 \n",
      "    Resta de combustible 50\n",
      "    \n",
      "Tanque tanque_ext 20 restantes\n",
      "Tanque tanque_int 30 restantes\n"
     ]
    }
   ],
   "source": [
    "# Escribe tu nueva función\n",
    "\n",
    "def reporte_2(destino, *tiempo, **combustible):\n",
    "    reporte=f\"\"\"\n",
    "    Destino a {destino}\n",
    "    Tiempo total {sum(tiempo)} \n",
    "    Resta de combustible {sum(combustible.values())}\n",
    "    \"\"\"\n",
    "\n",
    "    for tanque,num in combustible.items():\n",
    "        reporte+=f\"\\nTanque {tanque} {num} restantes\"\n",
    "    return reporte\n",
    "\n",
    "print(reporte_2(\"Luna\",10,20,30,tanque_ext=20,tanque_int=30))"
   ]
  }
 ],
 "metadata": {
  "interpreter": {
   "hash": "82fc57221ea81210cc99d19da81c802fe97a75a65373bbd51681fade88543055"
  },
  "kernelspec": {
   "display_name": "Python 3.7.3 ('base')",
   "language": "python",
   "name": "python3"
  },
  "language_info": {
   "codemirror_mode": {
    "name": "ipython",
    "version": 3
   },
   "file_extension": ".py",
   "mimetype": "text/x-python",
   "name": "python",
   "nbconvert_exporter": "python",
   "pygments_lexer": "ipython3",
   "version": "3.7.3"
  },
  "orig_nbformat": 4
 },
 "nbformat": 4,
 "nbformat_minor": 2
}
