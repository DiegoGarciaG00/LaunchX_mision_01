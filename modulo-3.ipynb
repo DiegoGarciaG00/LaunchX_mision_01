{
 "cells": [
  {
   "cell_type": "markdown",
   "metadata": {},
   "source": [
    "# Ejercicio - Escribir delcaraciones if, else y elif."
   ]
  },
  {
   "cell_type": "code",
   "execution_count": 1,
   "metadata": {},
   "outputs": [
    {
     "name": "stdout",
     "output_type": "stream",
     "text": [
      "¡Advertencia!\n"
     ]
    }
   ],
   "source": [
    "#ejericio 1\n",
    "ast=49\n",
    "if ast>25:\n",
    "    print(\"¡Advertencia!\")\n",
    "else:\n",
    "    print(\"Sigue\")"
   ]
  },
  {
   "cell_type": "code",
   "execution_count": 2,
   "metadata": {},
   "outputs": [
    {
     "name": "stdout",
     "output_type": "stream",
     "text": [
      "No se ve la luz\n"
     ]
    }
   ],
   "source": [
    "#ejecicio 2 variante 1 uso de if y else\n",
    "\n",
    "ast=19\n",
    "\n",
    "if ast>=20:\n",
    "    print(\"Se ve la luz\")\n",
    "else:\n",
    "    print(\"No se ve la luz\")\n",
    "\n",
    "\n"
   ]
  },
  {
   "cell_type": "code",
   "execution_count": 3,
   "metadata": {},
   "outputs": [
    {
     "name": "stdout",
     "output_type": "stream",
     "text": [
      "No se ve la luz\n"
     ]
    }
   ],
   "source": [
    "#ejecicio 2 variante 2 uso de if, else y elif\n",
    "\n",
    "ast=19\n",
    "\n",
    "if ast>20:\n",
    "    print(\"Se ve la luz\")\n",
    "elif ast==20:\n",
    "    print(\"Se ve la luz\")\n",
    "else:\n",
    "    print(\"No se ve la luz\")"
   ]
  },
  {
   "cell_type": "code",
   "execution_count": 5,
   "metadata": {},
   "outputs": [
    {
     "name": "stdout",
     "output_type": "stream",
     "text": [
      "Se ve la luz\n"
     ]
    }
   ],
   "source": [
    "#ejercicio 3 and y or\n",
    "\n",
    "vel_ast=25\n",
    "tam_ast=40\n",
    "\n",
    "if vel_ast>25 and tam_ast>40:\n",
    "    print(\"¡Advertencia!\")\n",
    "elif vel_ast>=20:\n",
    "    print(\"Se ve la luz\")\n",
    "elif tam_ast<20:\n",
    "    print(\"No hay peligro\")\n",
    "else:\n",
    "    print(\"Sin problemas\")\n"
   ]
  }
 ],
 "metadata": {
  "interpreter": {
   "hash": "82fc57221ea81210cc99d19da81c802fe97a75a65373bbd51681fade88543055"
  },
  "kernelspec": {
   "display_name": "Python 3.7.3 ('base')",
   "language": "python",
   "name": "python3"
  },
  "language_info": {
   "codemirror_mode": {
    "name": "ipython",
    "version": 3
   },
   "file_extension": ".py",
   "mimetype": "text/x-python",
   "name": "python",
   "nbconvert_exporter": "python",
   "pygments_lexer": "ipython3",
   "version": "3.7.3"
  },
  "orig_nbformat": 4
 },
 "nbformat": 4,
 "nbformat_minor": 2
}
