{
 "cells": [
  {
   "cell_type": "markdown",
   "metadata": {},
   "source": [
    "## Ejercicio 1 Creacion de bucle con while"
   ]
  },
  {
   "cell_type": "code",
   "execution_count": 7,
   "metadata": {},
   "outputs": [
    {
     "name": "stdout",
     "output_type": "stream",
     "text": [
      "['Tierra', 'Marte', 'Jupiter', 'Saturno ']\n"
     ]
    }
   ],
   "source": [
    "new_planet=\"\"\n",
    "planets=[]\n",
    "\n",
    "#bucle con while para detectar palabra \n",
    "while new_planet.lower() != 'done':\n",
    "    if new_planet:\n",
    "        planets.append(new_planet)\n",
    "    new_planet = input('Enter a new planet ')\n",
    "\n",
    "print(planets)"
   ]
  },
  {
   "cell_type": "markdown",
   "metadata": {},
   "source": [
    "## Ejercicio 2 ciclo for"
   ]
  },
  {
   "cell_type": "code",
   "execution_count": 8,
   "metadata": {},
   "outputs": [
    {
     "name": "stdout",
     "output_type": "stream",
     "text": [
      "Planeta: Tierra\n",
      "Planeta: Marte\n",
      "Planeta: Jupiter\n",
      "Planeta: Saturno \n"
     ]
    }
   ],
   "source": [
    "for planeta in planets:\n",
    "    print('Planeta:',planeta)"
   ]
  }
 ],
 "metadata": {
  "interpreter": {
   "hash": "82fc57221ea81210cc99d19da81c802fe97a75a65373bbd51681fade88543055"
  },
  "kernelspec": {
   "display_name": "Python 3.7.3 ('base')",
   "language": "python",
   "name": "python3"
  },
  "language_info": {
   "codemirror_mode": {
    "name": "ipython",
    "version": 3
   },
   "file_extension": ".py",
   "mimetype": "text/x-python",
   "name": "python",
   "nbconvert_exporter": "python",
   "pygments_lexer": "ipython3",
   "version": "3.7.3"
  },
  "orig_nbformat": 4
 },
 "nbformat": 4,
 "nbformat_minor": 2
}
